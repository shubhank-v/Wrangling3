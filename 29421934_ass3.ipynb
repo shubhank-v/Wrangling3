{
 "cells": [
  {
   "cell_type": "markdown",
   "metadata": {},
   "source": [
    "# *Assignment 3 Data Integration*\n",
    "\n",
    "Combining data from different sources and providing unified view of these data.\n",
    "### Categories of data used:  \n",
    "> - <b>Realstate json and xml data \n",
    "> - Hospital json data  \n",
    "> - Shopping Centers xls data  \n",
    "> - Super Markets html data  \n",
    "> - GTFS data  \n",
    "> - Victoria Shape files"
   ]
  },
  {
   "cell_type": "markdown",
   "metadata": {},
   "source": [
    "### Loading Libraries"
   ]
  },
  {
   "cell_type": "code",
   "execution_count": 1,
   "metadata": {},
   "outputs": [
    {
     "name": "stdout",
     "output_type": "stream",
     "text": [
      "Libraries Loaded\n"
     ]
    }
   ],
   "source": [
    "#Basic scientific python libs\n",
    "import pandas as pd\n",
    "import numpy as np\n",
    "# Visualisation\n",
    "import geopandas as gpd\n",
    "import matplotlib as mpl\n",
    "import matplotlib.pyplot as plt\n",
    "import seaborn as sns\n",
    "from bs4 import BeautifulSoup\n",
    "# Regular Expression\n",
    "import re\n",
    "# Dates\n",
    "from datetime import datetime\n",
    "import datetime\n",
    "from datetime import timedelta\n",
    "import time\n",
    "## Shape files\n",
    "import numpy\n",
    "import matplotlib \n",
    "%matplotlib inline\n",
    "import shapefile\n",
    "import matplotlib.pyplot as plt\n",
    "import matplotlib.patches as patches\n",
    "from matplotlib.patches import Polygon\n",
    "from matplotlib.collections import PatchCollection\n",
    "import math\n",
    "###\n",
    "from shapely.geometry import Point, Polygon\n",
    "\n",
    "# Import train_test_split function\n",
    "from sklearn.model_selection import train_test_split\n",
    "#Import knearest neighbors Classifier model\n",
    "from sklearn.neighbors import KNeighborsClassifier\n",
    "#Import scikit-learn metrics module for accuracy calculation\n",
    "from sklearn import metrics\n",
    "from sklearn import linear_model\n",
    "# Configure visualisations\n",
    "%matplotlib inline\n",
    "mpl.style.use( 'ggplot' )\n",
    "#Notebook displace setting\n",
    "from IPython.core.display import HTML\n",
    "css = open('style/style-table.css').read() + open('style/style-notebook.css').read()\n",
    "HTML('<style>{}</style>'.format(css))\n",
    "print('Libraries Loaded')"
   ]
  },
  {
   "cell_type": "markdown",
   "metadata": {},
   "source": [
    "## Task 1: Data Integration"
   ]
  },
  {
   "cell_type": "markdown",
   "metadata": {},
   "source": [
    "### Task 1.1: Read Realstate data."
   ]
  },
  {
   "cell_type": "code",
   "execution_count": 2,
   "metadata": {},
   "outputs": [
    {
     "name": "stdout",
     "output_type": "stream",
     "text": [
      "Realstate data successfully loaded\n"
     ]
    }
   ],
   "source": [
    "# Read hospital json file\n",
    "hospital = pd.read_json('/Users/shubhank/MonashUniversity/sem2/wrangling/assignment3/29421934_hospitals.json')\n",
    "\n",
    "# Read realstate json file\n",
    "realstatejson = pd.read_json('/Users/shubhank/MonashUniversity/sem2/wrangling/assignment3/29421934_real_state.json')\n",
    "\n",
    "# Read shopping centers xls file\n",
    "shoppingcenters = pd.read_excel('/Users/shubhank/MonashUniversity/sem2/wrangling/assignment3/29421934_shopingcenters.xlsx')\n",
    "\n",
    "# Read supermarkets html file\n",
    "supermarkets = pd.read_html('/Users/shubhank/MonashUniversity/sem2/wrangling/assignment3/29421934_supermarkets.html')\n",
    "supermarkets=supermarkets[0]\n",
    "supermarkets = supermarkets.drop('Unnamed: 0', 1)\n",
    "\n",
    "# Reading realstate xml file\n",
    "import xml.etree.cElementTree as et\n",
    " \n",
    "tree = et.ElementTree(file = '/Users/shubhank/MonashUniversity/sem2/wrangling/assignment3/29421934_real_state.xml')\n",
    "root = tree.getroot()\n",
    "\n",
    "xml_dict = {}\n",
    "for child_of_root in root:\n",
    "    xml_dict[child_of_root.tag] =[child.text for child in child_of_root]\n",
    "    \n",
    "realstatexml = pd.DataFrame(xml_dict)\n",
    "print('Realstate data successfully loaded')"
   ]
  },
  {
   "cell_type": "markdown",
   "metadata": {},
   "source": [
    "##### Realstate JSON Data"
   ]
  },
  {
   "cell_type": "code",
   "execution_count": 3,
   "metadata": {},
   "outputs": [
    {
     "name": "stdout",
     "output_type": "stream",
     "text": [
      "<class 'pandas.core.frame.DataFrame'>\n",
      "Int64Index: 1010 entries, 0 to 1009\n",
      "Data columns (total 10 columns):\n",
      "addr_street      1007 non-null object\n",
      "bathrooms        1007 non-null float64\n",
      "bedrooms         1007 non-null float64\n",
      "lat              1007 non-null float64\n",
      "lng              1007 non-null float64\n",
      "parking_space    1007 non-null float64\n",
      "price            1007 non-null float64\n",
      "property_id      1007 non-null float64\n",
      "property_type    1007 non-null object\n",
      "year             1007 non-null float64\n",
      "dtypes: float64(8), object(2)\n",
      "memory usage: 86.8+ KB\n"
     ]
    }
   ],
   "source": [
    "realstatejson.head()\n",
    "\n",
    "realstatejson.info()"
   ]
  },
  {
   "cell_type": "code",
   "execution_count": 4,
   "metadata": {},
   "outputs": [
    {
     "data": {
      "text/plain": [
       "addr_street      3\n",
       "bathrooms        3\n",
       "bedrooms         3\n",
       "lat              3\n",
       "lng              3\n",
       "parking_space    3\n",
       "price            3\n",
       "property_id      3\n",
       "property_type    3\n",
       "year             3\n",
       "dtype: int64"
      ]
     },
     "execution_count": 4,
     "metadata": {},
     "output_type": "execute_result"
    }
   ],
   "source": [
    "# Null check\n",
    "realstatejson.isnull().sum()\n"
   ]
  },
  {
   "cell_type": "markdown",
   "metadata": {},
   "source": [
    "<div class=\"alert alert-block alert-danger\">\n",
    "Null Values are present in Realstate JSON Data\n",
    "</div>"
   ]
  },
  {
   "cell_type": "code",
   "execution_count": 5,
   "metadata": {},
   "outputs": [
    {
     "data": {
      "text/html": [
       "<div>\n",
       "<style scoped>\n",
       "    .dataframe tbody tr th:only-of-type {\n",
       "        vertical-align: middle;\n",
       "    }\n",
       "\n",
       "    .dataframe tbody tr th {\n",
       "        vertical-align: top;\n",
       "    }\n",
       "\n",
       "    .dataframe thead th {\n",
       "        text-align: right;\n",
       "    }\n",
       "</style>\n",
       "<table border=\"1\" class=\"dataframe\">\n",
       "  <thead>\n",
       "    <tr style=\"text-align: right;\">\n",
       "      <th></th>\n",
       "      <th>addr_street</th>\n",
       "      <th>bathrooms</th>\n",
       "      <th>bedrooms</th>\n",
       "      <th>lat</th>\n",
       "      <th>lng</th>\n",
       "      <th>parking_space</th>\n",
       "      <th>price</th>\n",
       "      <th>property_id</th>\n",
       "      <th>property_type</th>\n",
       "      <th>year</th>\n",
       "    </tr>\n",
       "  </thead>\n",
       "  <tbody>\n",
       "    <tr>\n",
       "      <th>176</th>\n",
       "      <td>None</td>\n",
       "      <td>NaN</td>\n",
       "      <td>NaN</td>\n",
       "      <td>NaN</td>\n",
       "      <td>NaN</td>\n",
       "      <td>NaN</td>\n",
       "      <td>NaN</td>\n",
       "      <td>NaN</td>\n",
       "      <td>None</td>\n",
       "      <td>NaN</td>\n",
       "    </tr>\n",
       "    <tr>\n",
       "      <th>505</th>\n",
       "      <td>None</td>\n",
       "      <td>NaN</td>\n",
       "      <td>NaN</td>\n",
       "      <td>NaN</td>\n",
       "      <td>NaN</td>\n",
       "      <td>NaN</td>\n",
       "      <td>NaN</td>\n",
       "      <td>NaN</td>\n",
       "      <td>None</td>\n",
       "      <td>NaN</td>\n",
       "    </tr>\n",
       "    <tr>\n",
       "      <th>628</th>\n",
       "      <td>None</td>\n",
       "      <td>NaN</td>\n",
       "      <td>NaN</td>\n",
       "      <td>NaN</td>\n",
       "      <td>NaN</td>\n",
       "      <td>NaN</td>\n",
       "      <td>NaN</td>\n",
       "      <td>NaN</td>\n",
       "      <td>None</td>\n",
       "      <td>NaN</td>\n",
       "    </tr>\n",
       "  </tbody>\n",
       "</table>\n",
       "</div>"
      ],
      "text/plain": [
       "    addr_street  bathrooms  bedrooms  lat  lng  parking_space  price  \\\n",
       "176        None        NaN       NaN  NaN  NaN            NaN    NaN   \n",
       "505        None        NaN       NaN  NaN  NaN            NaN    NaN   \n",
       "628        None        NaN       NaN  NaN  NaN            NaN    NaN   \n",
       "\n",
       "     property_id property_type  year  \n",
       "176          NaN          None   NaN  \n",
       "505          NaN          None   NaN  \n",
       "628          NaN          None   NaN  "
      ]
     },
     "execution_count": 5,
     "metadata": {},
     "output_type": "execute_result"
    }
   ],
   "source": [
    "### Drop Null Values\n",
    "realstatejson[realstatejson.property_id.isnull()]"
   ]
  },
  {
   "cell_type": "code",
   "execution_count": 6,
   "metadata": {},
   "outputs": [
    {
     "data": {
      "text/plain": [
       "addr_street      5\n",
       "bathrooms        5\n",
       "bedrooms         5\n",
       "lat              5\n",
       "lng              5\n",
       "parking_space    5\n",
       "price            5\n",
       "property_id      5\n",
       "property_type    5\n",
       "year             5\n",
       "dtype: int64"
      ]
     },
     "execution_count": 6,
     "metadata": {},
     "output_type": "execute_result"
    }
   ],
   "source": [
    "# Duplicate check\n",
    "realstatejson.loc[realstatejson.duplicated, :].count()"
   ]
  },
  {
   "cell_type": "markdown",
   "metadata": {},
   "source": [
    "<div class=\"alert alert-block alert-danger\">\n",
    "Duplicate values are present in Realstate JSON Data\n",
    "</div>"
   ]
  },
  {
   "cell_type": "code",
   "execution_count": 7,
   "metadata": {},
   "outputs": [
    {
     "name": "stdout",
     "output_type": "stream",
     "text": [
      "Duplicates and Null values dropped successfully\n"
     ]
    }
   ],
   "source": [
    "# Dropping Null values\n",
    "realstatejson = realstatejson[pd.notnull(realstatejson.property_id)]\n",
    "\n",
    "# Drop duplicates\n",
    "realstatejson.drop_duplicates(keep='first', inplace=True)\n",
    "print('Duplicates and Null values dropped successfully')"
   ]
  },
  {
   "cell_type": "code",
   "execution_count": 8,
   "metadata": {},
   "outputs": [
    {
     "name": "stdout",
     "output_type": "stream",
     "text": [
      "Done!!\n"
     ]
    }
   ],
   "source": [
    "# convert data types\n",
    "realstatejson.bathrooms = realstatejson.bathrooms.astype(int)\n",
    "realstatejson.bedrooms = realstatejson.bedrooms.astype(int)\n",
    "realstatejson.parking_space = realstatejson.parking_space.astype(int)\n",
    "realstatejson.property_id = realstatejson.property_id.astype(object)\n",
    "realstatejson.year = realstatejson.year.astype(object)\n",
    "print('Done!!')\n"
   ]
  },
  {
   "cell_type": "markdown",
   "metadata": {},
   "source": [
    "##### Realstate XML Data"
   ]
  },
  {
   "cell_type": "code",
   "execution_count": 9,
   "metadata": {},
   "outputs": [
    {
     "name": "stdout",
     "output_type": "stream",
     "text": [
      "<class 'pandas.core.frame.DataFrame'>\n",
      "RangeIndex: 1002 entries, 0 to 1001\n",
      "Data columns (total 10 columns):\n",
      "addr_street      1002 non-null object\n",
      "bathrooms        1002 non-null object\n",
      "bedrooms         1002 non-null object\n",
      "lat              1002 non-null object\n",
      "lng              1002 non-null object\n",
      "parking_space    1002 non-null object\n",
      "price            1002 non-null object\n",
      "property_id      1002 non-null object\n",
      "property_type    1002 non-null object\n",
      "year             1002 non-null object\n",
      "dtypes: object(10)\n",
      "memory usage: 78.4+ KB\n"
     ]
    },
    {
     "data": {
      "text/html": [
       "<div>\n",
       "<style scoped>\n",
       "    .dataframe tbody tr th:only-of-type {\n",
       "        vertical-align: middle;\n",
       "    }\n",
       "\n",
       "    .dataframe tbody tr th {\n",
       "        vertical-align: top;\n",
       "    }\n",
       "\n",
       "    .dataframe thead th {\n",
       "        text-align: right;\n",
       "    }\n",
       "</style>\n",
       "<table border=\"1\" class=\"dataframe\">\n",
       "  <thead>\n",
       "    <tr style=\"text-align: right;\">\n",
       "      <th></th>\n",
       "      <th>addr_street</th>\n",
       "      <th>bathrooms</th>\n",
       "      <th>bedrooms</th>\n",
       "      <th>lat</th>\n",
       "      <th>lng</th>\n",
       "      <th>parking_space</th>\n",
       "      <th>price</th>\n",
       "      <th>property_id</th>\n",
       "      <th>property_type</th>\n",
       "      <th>year</th>\n",
       "    </tr>\n",
       "  </thead>\n",
       "  <tbody>\n",
       "    <tr>\n",
       "      <th>count</th>\n",
       "      <td>1002</td>\n",
       "      <td>1002</td>\n",
       "      <td>1002</td>\n",
       "      <td>1002</td>\n",
       "      <td>1002</td>\n",
       "      <td>1002</td>\n",
       "      <td>1002</td>\n",
       "      <td>1002</td>\n",
       "      <td>1002</td>\n",
       "      <td>1002</td>\n",
       "    </tr>\n",
       "    <tr>\n",
       "      <th>unique</th>\n",
       "      <td>996</td>\n",
       "      <td>4</td>\n",
       "      <td>6</td>\n",
       "      <td>997</td>\n",
       "      <td>995</td>\n",
       "      <td>5</td>\n",
       "      <td>779</td>\n",
       "      <td>997</td>\n",
       "      <td>2</td>\n",
       "      <td>12</td>\n",
       "    </tr>\n",
       "    <tr>\n",
       "      <th>top</th>\n",
       "      <td>nan</td>\n",
       "      <td>1.0</td>\n",
       "      <td>3.0</td>\n",
       "      <td>nan</td>\n",
       "      <td>nan</td>\n",
       "      <td>2.0</td>\n",
       "      <td>6480000.0</td>\n",
       "      <td>nan</td>\n",
       "      <td>house</td>\n",
       "      <td>2015.0</td>\n",
       "    </tr>\n",
       "    <tr>\n",
       "      <th>freq</th>\n",
       "      <td>6</td>\n",
       "      <td>488</td>\n",
       "      <td>549</td>\n",
       "      <td>6</td>\n",
       "      <td>6</td>\n",
       "      <td>519</td>\n",
       "      <td>6</td>\n",
       "      <td>6</td>\n",
       "      <td>996</td>\n",
       "      <td>146</td>\n",
       "    </tr>\n",
       "  </tbody>\n",
       "</table>\n",
       "</div>"
      ],
      "text/plain": [
       "       addr_street bathrooms bedrooms   lat   lng parking_space      price  \\\n",
       "count         1002      1002     1002  1002  1002          1002       1002   \n",
       "unique         996         4        6   997   995             5        779   \n",
       "top            nan       1.0      3.0   nan   nan           2.0  6480000.0   \n",
       "freq             6       488      549     6     6           519          6   \n",
       "\n",
       "       property_id property_type    year  \n",
       "count         1002          1002    1002  \n",
       "unique         997             2      12  \n",
       "top            nan         house  2015.0  \n",
       "freq             6           996     146  "
      ]
     },
     "execution_count": 9,
     "metadata": {},
     "output_type": "execute_result"
    }
   ],
   "source": [
    "realstatexml.head()\n",
    "\n",
    "realstatexml.info()\n",
    "\n",
    "realstatexml.describe()"
   ]
  },
  {
   "cell_type": "code",
   "execution_count": 10,
   "metadata": {},
   "outputs": [
    {
     "data": {
      "text/plain": [
       "addr_street      5\n",
       "bathrooms        5\n",
       "bedrooms         5\n",
       "lat              5\n",
       "lng              5\n",
       "parking_space    5\n",
       "price            5\n",
       "property_id      5\n",
       "property_type    5\n",
       "year             5\n",
       "dtype: int64"
      ]
     },
     "execution_count": 10,
     "metadata": {},
     "output_type": "execute_result"
    }
   ],
   "source": [
    "# Duplicate check\n",
    "realstatexml.loc[realstatexml.duplicated, :].count()"
   ]
  },
  {
   "cell_type": "markdown",
   "metadata": {},
   "source": [
    "<div class=\"alert alert-block alert-danger\">\n",
    "Duplicate values are present in Realstate XML Data\n",
    "</div>"
   ]
  },
  {
   "cell_type": "code",
   "execution_count": 11,
   "metadata": {},
   "outputs": [],
   "source": [
    "# Drop duplicates\n",
    "realstatexml.drop_duplicates(keep='first', inplace=True)"
   ]
  },
  {
   "cell_type": "code",
   "execution_count": 12,
   "metadata": {},
   "outputs": [],
   "source": [
    "# Replace nan with np.NaN\n",
    "realstatexml = realstatexml.replace('nan', np.NaN) "
   ]
  },
  {
   "cell_type": "code",
   "execution_count": 13,
   "metadata": {},
   "outputs": [
    {
     "data": {
      "text/plain": [
       "addr_street      1\n",
       "bathrooms        1\n",
       "bedrooms         1\n",
       "lat              1\n",
       "lng              1\n",
       "parking_space    1\n",
       "price            1\n",
       "property_id      1\n",
       "property_type    1\n",
       "year             1\n",
       "dtype: int64"
      ]
     },
     "execution_count": 13,
     "metadata": {},
     "output_type": "execute_result"
    }
   ],
   "source": [
    "# Null check\n",
    "realstatexml.isnull().sum()"
   ]
  },
  {
   "cell_type": "markdown",
   "metadata": {},
   "source": [
    "<div class=\"alert alert-block alert-danger\">\n",
    "Null values are present in Realstate XML Data.\n",
    "</div>"
   ]
  },
  {
   "cell_type": "code",
   "execution_count": 14,
   "metadata": {},
   "outputs": [],
   "source": [
    "# remove null values\n",
    "realstatexml = realstatexml[pd.notnull(realstatexml.property_id)]"
   ]
  },
  {
   "cell_type": "code",
   "execution_count": 15,
   "metadata": {},
   "outputs": [
    {
     "name": "stdout",
     "output_type": "stream",
     "text": [
      "done\n"
     ]
    }
   ],
   "source": [
    "#Data type conversions\n",
    "realstatexml.bathrooms = pd.to_numeric(realstatexml.bathrooms)\n",
    "realstatexml.bathrooms  = realstatexml.bathrooms.astype(int)\n",
    "realstatexml.bedrooms = pd.to_numeric(realstatexml.bedrooms)\n",
    "realstatexml.bedrooms  = realstatexml.bedrooms.astype(int)\n",
    "realstatexml.parking_space = pd.to_numeric(realstatexml.parking_space)\n",
    "realstatexml.parking_space  = realstatexml.parking_space.astype(int)\n",
    "realstatexml.lat = pd.to_numeric(realstatexml.lat)\n",
    "realstatexml.lng = pd.to_numeric(realstatexml.lng)\n",
    "realstatexml.price = pd.to_numeric(realstatexml.price)\n",
    "print('done')"
   ]
  },
  {
   "cell_type": "markdown",
   "metadata": {},
   "source": [
    "#### Realstate XML + JSON"
   ]
  },
  {
   "cell_type": "code",
   "execution_count": 16,
   "metadata": {},
   "outputs": [
    {
     "name": "stdout",
     "output_type": "stream",
     "text": [
      "done\n"
     ]
    }
   ],
   "source": [
    "realstate = pd.concat([realstatejson,realstatexml])\n",
    "print('done')"
   ]
  },
  {
   "cell_type": "markdown",
   "metadata": {},
   "source": [
    "## Task 1.2: Load Melbourne Train Information Data"
   ]
  },
  {
   "cell_type": "markdown",
   "metadata": {},
   "source": [
    "##### Loading GTFS Data."
   ]
  },
  {
   "cell_type": "code",
   "execution_count": 17,
   "metadata": {},
   "outputs": [
    {
     "name": "stdout",
     "output_type": "stream",
     "text": [
      "GTFS Data successfully loaded\n"
     ]
    }
   ],
   "source": [
    "agency = pd.read_csv('/Users/shubhank/MonashUniversity/sem2/wrangling/assignment3/1. GTFS - Melbourne Train Information - From PTV (9 Oct 2015)/GTFS - Melbourne Train Information/agency.txt')\n",
    "calendar_dates = pd.read_csv('/Users/shubhank/MonashUniversity/sem2/wrangling/assignment3/1. GTFS - Melbourne Train Information - From PTV (9 Oct 2015)/GTFS - Melbourne Train Information/calendar_dates.txt')\n",
    "calendar = pd.read_csv('/Users/shubhank/MonashUniversity/sem2/wrangling/assignment3/1. GTFS - Melbourne Train Information - From PTV (9 Oct 2015)/GTFS - Melbourne Train Information/calendar.txt')\n",
    "routes = pd.read_csv('/Users/shubhank/MonashUniversity/sem2/wrangling/assignment3/1. GTFS - Melbourne Train Information - From PTV (9 Oct 2015)/GTFS - Melbourne Train Information/routes.txt')\n",
    "shapes = pd.read_csv('/Users/shubhank/MonashUniversity/sem2/wrangling/assignment3/1. GTFS - Melbourne Train Information - From PTV (9 Oct 2015)/GTFS - Melbourne Train Information/shapes.txt')\n",
    "stop_times = pd.read_csv('/Users/shubhank/MonashUniversity/sem2/wrangling/assignment3/1. GTFS - Melbourne Train Information - From PTV (9 Oct 2015)/GTFS - Melbourne Train Information/stop_times.txt')\n",
    "stops = pd.read_csv('/Users/shubhank/MonashUniversity/sem2/wrangling/assignment3/1. GTFS - Melbourne Train Information - From PTV (9 Oct 2015)/GTFS - Melbourne Train Information/stops.txt')\n",
    "trips = pd.read_csv('/Users/shubhank/MonashUniversity/sem2/wrangling/assignment3/1. GTFS - Melbourne Train Information - From PTV (9 Oct 2015)/GTFS - Melbourne Train Information/trips.txt')\n",
    "print('GTFS Data successfully loaded')"
   ]
  },
  {
   "cell_type": "markdown",
   "metadata": {},
   "source": [
    "<div class=\"alert alert-block alert-warning\">\n",
    "Upon observation we found out that, for few rows arrival and departure time are in wrong format.  \n",
    "</div>"
   ]
  },
  {
   "cell_type": "code",
   "execution_count": 18,
   "metadata": {},
   "outputs": [
    {
     "name": "stdout",
     "output_type": "stream",
     "text": [
      "Stop times fixes\n"
     ]
    }
   ],
   "source": [
    "# Define function to correct arrival and departure time.\n",
    "def fix_time(time_str):\n",
    "    h, m, s = time_str.split(':')\n",
    "    if int(h) >=24:\n",
    "        return str('00:'+m+':'+s)\n",
    "    else:\n",
    "        return str(h+':'+m+':'+s)\n",
    "\n",
    "stop_times['arrival_time'] = stop_times['arrival_time'].apply(lambda x: fix_time(x))\n",
    "stop_times['departure_time'] = stop_times['departure_time'].apply(lambda x: fix_time(x))\n",
    "stop_times['arrival_time'] = pd.to_datetime(stop_times['arrival_time'], format='%H:%M:%S')\n",
    "stop_times['departure_time'] = pd.to_datetime(stop_times['departure_time'], format='%H:%M:%S')\n",
    "print('Stop times fixes')"
   ]
  },
  {
   "cell_type": "markdown",
   "metadata": {
    "scrolled": true
   },
   "source": [
    "#### Filter stop times and trips data"
   ]
  },
  {
   "cell_type": "markdown",
   "metadata": {},
   "source": [
    "Filtering trains running on weekdays between 7 AM to 9 AM"
   ]
  },
  {
   "cell_type": "code",
   "execution_count": 19,
   "metadata": {},
   "outputs": [
    {
     "name": "stdout",
     "output_type": "stream",
     "text": [
      "Dataframe subsets successfully created\n"
     ]
    }
   ],
   "source": [
    "# Filtering stop times and trips\n",
    "# stop times between 7am to 9am\n",
    "filtered_stop_times = stop_times[stop_times.arrival_time.dt.strftime('%H:%M:%S').between('07:00:00','09:00:00')]\n",
    "\n",
    "\n",
    "#filtering trips running on weekdays\n",
    "filtered_trips = trips[trips['service_id']=='T0']\n",
    "\n",
    "\n",
    "\n",
    "# Merge filtered trip and stop times.\n",
    "filtered_trip_times = pd.merge(filtered_trips,filtered_stop_times, on='trip_id', how='inner')\n",
    "print('Dataframe subsets successfully created')"
   ]
  },
  {
   "cell_type": "code",
   "execution_count": 20,
   "metadata": {},
   "outputs": [
    {
     "name": "stdout",
     "output_type": "stream",
     "text": [
      "Datetime to time done!!\n"
     ]
    }
   ],
   "source": [
    "# Convert Datetime to time only format\n",
    "filtered_trip_times['arrival_time'] = filtered_trip_times['arrival_time'].dt.time\n",
    "filtered_trip_times['departure_time'] = filtered_trip_times['departure_time'].dt.time\n",
    "print('Datetime to time done!!')"
   ]
  },
  {
   "cell_type": "markdown",
   "metadata": {},
   "source": [
    "## Task 1.3: Load Shape file Data."
   ]
  },
  {
   "cell_type": "code",
   "execution_count": 21,
   "metadata": {},
   "outputs": [
    {
     "name": "stdout",
     "output_type": "stream",
     "text": [
      "Geo data successfully loaded!!\n"
     ]
    }
   ],
   "source": [
    "geo_data = gpd.read_file(\"/Users/shubhank/MonashUniversity/sem2/wrangling/assignment3/vic_suburb_boundary/VIC_LOCALITY_POLYGON_shp.dbf\")\n",
    "print('Geo data successfully loaded!!')"
   ]
  },
  {
   "cell_type": "markdown",
   "metadata": {},
   "source": [
    "## Task 1.4: Data Integration"
   ]
  },
  {
   "cell_type": "markdown",
   "metadata": {},
   "source": [
    "#### Calculate closest SuperMarket to Property"
   ]
  },
  {
   "cell_type": "code",
   "execution_count": 22,
   "metadata": {},
   "outputs": [
    {
     "name": "stdout",
     "output_type": "stream",
     "text": [
      "done\n"
     ]
    }
   ],
   "source": [
    "def haversine_distance(lon1, lat1, lon2, lat2):\n",
    "    \"\"\"\n",
    "    Calculate the great circle distance between two points\n",
    "    on the earth (specified in decimal degrees)   \n",
    "\n",
    "    \"\"\"\n",
    "    lon1, lat1, lon2, lat2 = map(np.radians, [lon1, lat1, lon2, lat2])\n",
    "\n",
    "    dlon = lon2 - lon1\n",
    "    dlat = lat2 - lat1\n",
    "\n",
    "    a = np.sin(dlat/2.0)**2 + np.cos(lat1) * np.cos(lat2) * np.sin(dlon/2.0)**2\n",
    "\n",
    "    c = 2 * np.arcsin(np.sqrt(a))\n",
    "    meters = 6378 * c * 1000\n",
    "    return meters\n",
    "print('done')"
   ]
  },
  {
   "cell_type": "code",
   "execution_count": 23,
   "metadata": {},
   "outputs": [
    {
     "name": "stdout",
     "output_type": "stream",
     "text": [
      "Closest SuperMarket Found!!\n"
     ]
    }
   ],
   "source": [
    "# # The Euclidean distance from the closest super market to the property\n",
    "# code run for 5 mins\n",
    "\n",
    "distsmkt = {}\n",
    "temp_list = []\n",
    "for i in range(len(realstate)):\n",
    "    x1 = realstate.iloc[i]['lat']\n",
    "    y1 = realstate.iloc[i]['lng']\n",
    "    propertyid = realstate.iloc[i]['property_id']\n",
    "    for j in range(len(supermarkets)):\n",
    "        x2 = supermarkets.iloc[j]['lat']\n",
    "        y2 = supermarkets.iloc[j]['lng']\n",
    "        temp_list.append([haversine_distance(x1,y1,x2,y2),supermarkets.iloc[j]['id']])\n",
    "    distsmkt[propertyid] = min(temp_list)\n",
    "    temp_list = []\n",
    "    \n",
    "rstate_smkt = pd.DataFrame(columns=['property_id','Distance_to_supermarket','Supermarket_id'])\n",
    "for key, value in distsmkt.items():\n",
    "    rows = [key,value[0],value[1]]\n",
    "    rstate_smkt.loc[len(rstate_smkt)] = rows\n",
    "\n",
    "# merge to dataframe\n",
    "realstate = pd.merge(realstate, rstate_smkt, on='property_id', how='inner')\n",
    "print('Closest SuperMarket Found!!')"
   ]
  },
  {
   "cell_type": "markdown",
   "metadata": {},
   "source": [
    "#### Calculate closest Hospital to the property"
   ]
  },
  {
   "cell_type": "code",
   "execution_count": 24,
   "metadata": {},
   "outputs": [
    {
     "name": "stdout",
     "output_type": "stream",
     "text": [
      "Closest Hospital Found!!!\n"
     ]
    }
   ],
   "source": [
    "# The Euclidean distance from the closest hospital to the property.\n",
    "distH = {}\n",
    "temp_list = []\n",
    "for i in range(len(realstate)):\n",
    "    x1 = realstate.iloc[i]['lat']\n",
    "    y1 = realstate.iloc[i]['lng']\n",
    "    propertyid = realstate.iloc[i]['property_id']\n",
    "    for j in range(len(hospital)):\n",
    "        x2 = hospital.iloc[j]['lat']\n",
    "        y2 = hospital.iloc[j]['lng']\n",
    "        temp_list.append([haversine_distance(x1,y1,x2,y2),hospital.iloc[j]['id']])\n",
    "    #print(len(temp_list))\n",
    "    distH[propertyid] = min(temp_list)\n",
    "    temp_list = []\n",
    "    \n",
    "rstate_hsptl = pd.DataFrame(columns=['property_id','Distance_to_hospital','Hospital_id'])\n",
    "for key, value in distH.items():\n",
    "    rows = [key,value[0],value[1]]\n",
    "    rstate_hsptl.loc[len(rstate_hsptl)] = rows\n",
    "\n",
    "# Merge to dataframe\n",
    "realstate = pd.merge(realstate, rstate_hsptl, on='property_id', how='inner')\n",
    "print('Closest Hospital Found!!!')"
   ]
  },
  {
   "cell_type": "markdown",
   "metadata": {},
   "source": [
    "##### Calculate closest Shopping Center to property"
   ]
  },
  {
   "cell_type": "code",
   "execution_count": 25,
   "metadata": {},
   "outputs": [
    {
     "name": "stdout",
     "output_type": "stream",
     "text": [
      "Closest Shopping Center Found!!!\n"
     ]
    }
   ],
   "source": [
    "# The closest shopping center to the property.\n",
    "# The Euclidean distance from the closest shopping center to the property\n",
    "distSS = {}\n",
    "temp_list = []\n",
    "for i in range(len(realstate)):\n",
    "    x1 = realstate.iloc[i]['lat']\n",
    "    y1 = realstate.iloc[i]['lng']\n",
    "    propertyid = realstate.iloc[i]['property_id']\n",
    "    for j in range(len(shoppingcenters)):\n",
    "        x2 = shoppingcenters.iloc[j]['lat']\n",
    "        y2 = shoppingcenters.iloc[j]['lng']\n",
    "        temp_list.append([haversine_distance(x1,y1,x2,y2),shoppingcenters.iloc[j]['sc_id']])\n",
    "    #print(len(temp_list))\n",
    "    distSS[propertyid] = min(temp_list)\n",
    "    temp_list = []\n",
    "    \n",
    "rstate_ss = pd.DataFrame(columns=['property_id','Distance_to_sc','Shopping_center_id'])\n",
    "\n",
    "for key, value in distSS.items():\n",
    "    rows = [key,value[0],value[1]]\n",
    "    rstate_ss.loc[len(rstate_ss)] = rows\n",
    "\n",
    "realstate = pd.merge(realstate, rstate_ss, on='property_id', how='inner')\n",
    "print('Closest Shopping Center Found!!!')"
   ]
  },
  {
   "cell_type": "markdown",
   "metadata": {},
   "source": [
    "#### Calculate closest train station to the property"
   ]
  },
  {
   "cell_type": "code",
   "execution_count": 26,
   "metadata": {},
   "outputs": [
    {
     "name": "stdout",
     "output_type": "stream",
     "text": [
      "Closest Train Station Found!!!\n"
     ]
    }
   ],
   "source": [
    "#The closest train station to the property\n",
    "# The Euclidean distance from the closest train station to the property.\n",
    "distStatn = {}\n",
    "temp_list = []\n",
    "for i in range(len(realstate)):\n",
    "    x1 = realstate.iloc[i]['lat']\n",
    "    y1 = realstate.iloc[i]['lng']\n",
    "    propertyid = realstate.iloc[i]['property_id']\n",
    "    for j in range(len(stops)):\n",
    "        x2 = stops.iloc[j]['stop_lat']\n",
    "        y2 = stops.iloc[j]['stop_lon']\n",
    "        temp_list.append([haversine_distance(x1,y1,x2,y2),stops.iloc[j]['stop_id']])\n",
    "    #print(len(temp_list))\n",
    "    distStatn[propertyid] = min(temp_list)\n",
    "    temp_list = []\n",
    "    \n",
    "rstate_statn = pd.DataFrame(columns=['property_id','Distance_to_train_station','Train_station_id'])\n",
    "\n",
    "for key, value in distStatn.items():\n",
    "    rows = [key,value[0],value[1]]\n",
    "    rstate_statn.loc[len(rstate_statn)] = rows\n",
    "\n",
    "\n",
    "realstate = pd.merge(realstate, rstate_statn, on='property_id', how='inner')\n",
    "print('Closest Train Station Found!!!')"
   ]
  },
  {
   "cell_type": "markdown",
   "metadata": {},
   "source": [
    "#### Calculate Travel time to CBD"
   ]
  },
  {
   "cell_type": "code",
   "execution_count": 27,
   "metadata": {},
   "outputs": [],
   "source": [
    "def get_minutes(time_str):\n",
    "    h, m, s = time_str.split(':')\n",
    "    return int(h)*60 + int(m)+ int(s)/60\n",
    "\n",
    "FMT = '%H:%M:%S'\n",
    "\n",
    "regular = re.compile(r'(\\d{2}:\\d{2}:\\d{2})')\n",
    "\n",
    "\n",
    "# calculate distance to CBD\n",
    "def distance_to_cbd(stop_id):\n",
    "    trips_id_list = filtered_trip_times[(filtered_trip_times['stop_id']==stop_id) ].groupby('trip_id')['trip_id'].unique()\n",
    "    if len(trips_id_list) == 0:\n",
    "        return 0\n",
    "    else:\n",
    "        trips = []  \n",
    "        for trip_id in trips_id_list:\n",
    "            for trip in trip_id:\n",
    "                trips.append(trip)\n",
    "\n",
    "        trip_to_CBD=[]\n",
    "        time_taken = []\n",
    "        for trip in trips:\n",
    "            #print(time_taken)\n",
    "            tripDF = filtered_trip_times[filtered_trip_times['trip_id']==trip]\n",
    "            #time_taken=[]\n",
    "            if len(tripDF[tripDF['stop_id']==19854])==1:\n",
    "    \n",
    "                a = tripDF[tripDF.stop_id == stop_id]['arrival_time'].to_string()\n",
    "                a =regular.search(a).group(1)\n",
    "                b = tripDF[tripDF.stop_id == 19854]['arrival_time'].to_string()\n",
    "                b =regular.search(b).group(1)\n",
    "                c = datetime.datetime.strptime(b, FMT) - datetime.datetime.strptime(a, FMT)\n",
    "                if c.days>=0:\n",
    "                    time = get_minutes(str(c))\n",
    "                    time_taken.append(time)\n",
    "                    #print(time_taken)\n",
    "        if len(time_taken)>0:\n",
    "            final_time = sum(time_taken)/len(time_taken)\n",
    "            return final_time\n",
    "        else:\n",
    "            return 0\n",
    "\n"
   ]
  },
  {
   "cell_type": "code",
   "execution_count": 28,
   "metadata": {},
   "outputs": [
    {
     "name": "stdout",
     "output_type": "stream",
     "text": [
      "Travel time to CBD calculated.\n"
     ]
    }
   ],
   "source": [
    "realstate.Train_station_id = realstate.Train_station_id.astype('int')\n",
    "\n",
    "realstate['travel_min_to_CBD'] = realstate['Train_station_id'].apply(lambda x: distance_to_cbd(x))\n",
    "print('Travel time to CBD calculated.')"
   ]
  },
  {
   "cell_type": "markdown",
   "metadata": {},
   "source": [
    "#### Calculate Transfer Flag"
   ]
  },
  {
   "cell_type": "code",
   "execution_count": 29,
   "metadata": {},
   "outputs": [],
   "source": [
    "# check if there is direct trip to CBD\n",
    "\n",
    "def direct_trip_to_cbd(stop_id):\n",
    "    trips_id_list = filtered_trip_times[(filtered_trip_times['stop_id']==stop_id) ].groupby('trip_id')['trip_id'].unique()\n",
    "    count = 0\n",
    "    if len(trips_id_list) == 0:\n",
    "        return 1\n",
    "    else:\n",
    "        trips = []  \n",
    "        for trip_id in trips_id_list:\n",
    "            for trip in trip_id:\n",
    "                trips.append(trip)\n",
    "\n",
    "        trip_to_CBD=[]\n",
    "        time_taken = []\n",
    "        for trip in trips:\n",
    "            tripDF = filtered_trip_times[filtered_trip_times['trip_id']==trip]\n",
    "            # check if flinders station is in route.\n",
    "            if len(tripDF[tripDF['stop_id']==19854])==1:\n",
    "                count +=1\n",
    "        if count >0:\n",
    "            return 0\n",
    "        else:\n",
    "            return 1    \n"
   ]
  },
  {
   "cell_type": "code",
   "execution_count": 30,
   "metadata": {},
   "outputs": [
    {
     "name": "stdout",
     "output_type": "stream",
     "text": [
      "Transfer flag calculated successfully.\n"
     ]
    }
   ],
   "source": [
    "#direct_trip_to_cbd\n",
    "realstate['Transfer_flag'] = realstate['Train_station_id'].apply(lambda x: direct_trip_to_cbd(x))\n",
    "print('Transfer flag calculated successfully.')\n"
   ]
  },
  {
   "cell_type": "code",
   "execution_count": 31,
   "metadata": {},
   "outputs": [
    {
     "name": "stdout",
     "output_type": "stream",
     "text": [
      "done\n"
     ]
    }
   ],
   "source": [
    "# Change order of columns\n",
    "realstate = realstate.rename(columns={'property_id': 'Property_id', 'Distance_to_supermarket': 'Distance_to_supermaket'})\n",
    "realstate = realstate[['Property_id','lat','lng','addr_street','price','property_type'\n",
    "           ,'year','bedrooms','bathrooms','parking_space','Shopping_center_id','Distance_to_sc'\n",
    "          ,'Train_station_id','Distance_to_train_station','travel_min_to_CBD','Transfer_flag'\n",
    "        ,'Hospital_id','Distance_to_hospital','Supermarket_id'\n",
    "          ,'Distance_to_supermaket']]\n",
    "print('done')"
   ]
  },
  {
   "cell_type": "markdown",
   "metadata": {},
   "source": [
    "#### Find Suburb"
   ]
  },
  {
   "cell_type": "code",
   "execution_count": 32,
   "metadata": {},
   "outputs": [],
   "source": [
    "# Function to find suburb\n",
    "def find_suburb(x):\n",
    "    p1 = x[1]\n",
    "    p2 = x[2]\n",
    "    property_point = Point(p2,p1)\n",
    "    for j in range(len(geo_data['geometry'])):\n",
    "        poly = geo_data['geometry'][j]\n",
    "        if property_point.within(poly):\n",
    "            return geo_data['VIC_LOCA_2'][j]\n",
    "        else:\n",
    "            \"not available\""
   ]
  },
  {
   "cell_type": "code",
   "execution_count": 33,
   "metadata": {},
   "outputs": [
    {
     "name": "stdout",
     "output_type": "stream",
     "text": [
      "Suburb Found!!!\n"
     ]
    }
   ],
   "source": [
    "realstate['suburb'] = realstate.apply(find_suburb,axis=1)\n",
    "print('Suburb Found!!!')"
   ]
  },
  {
   "cell_type": "code",
   "execution_count": 34,
   "metadata": {},
   "outputs": [],
   "source": [
    "# Rearranging columns\n",
    "realstate = realstate[['Property_id','lat','lng','addr_street','suburb','price','property_type'\n",
    "           ,'year','bedrooms','bathrooms','parking_space','Shopping_center_id','Distance_to_sc'\n",
    "          ,'Train_station_id','Distance_to_train_station','travel_min_to_CBD','Transfer_flag'\n",
    "        ,'Hospital_id','Distance_to_hospital','Supermarket_id'\n",
    "          ,'Distance_to_supermaket']]"
   ]
  },
  {
   "cell_type": "code",
   "execution_count": 35,
   "metadata": {},
   "outputs": [
    {
     "data": {
      "text/html": [
       "<div>\n",
       "<style scoped>\n",
       "    .dataframe tbody tr th:only-of-type {\n",
       "        vertical-align: middle;\n",
       "    }\n",
       "\n",
       "    .dataframe tbody tr th {\n",
       "        vertical-align: top;\n",
       "    }\n",
       "\n",
       "    .dataframe thead th {\n",
       "        text-align: right;\n",
       "    }\n",
       "</style>\n",
       "<table border=\"1\" class=\"dataframe\">\n",
       "  <thead>\n",
       "    <tr style=\"text-align: right;\">\n",
       "      <th></th>\n",
       "      <th>Property_id</th>\n",
       "      <th>lat</th>\n",
       "      <th>lng</th>\n",
       "      <th>addr_street</th>\n",
       "      <th>suburb</th>\n",
       "      <th>price</th>\n",
       "      <th>property_type</th>\n",
       "      <th>year</th>\n",
       "      <th>bedrooms</th>\n",
       "      <th>bathrooms</th>\n",
       "      <th>...</th>\n",
       "      <th>Shopping_center_id</th>\n",
       "      <th>Distance_to_sc</th>\n",
       "      <th>Train_station_id</th>\n",
       "      <th>Distance_to_train_station</th>\n",
       "      <th>travel_min_to_CBD</th>\n",
       "      <th>Transfer_flag</th>\n",
       "      <th>Hospital_id</th>\n",
       "      <th>Distance_to_hospital</th>\n",
       "      <th>Supermarket_id</th>\n",
       "      <th>Distance_to_supermaket</th>\n",
       "    </tr>\n",
       "  </thead>\n",
       "  <tbody>\n",
       "    <tr>\n",
       "      <th>0</th>\n",
       "      <td>52733</td>\n",
       "      <td>-37.821212</td>\n",
       "      <td>145.010187</td>\n",
       "      <td>22 Stawell Street</td>\n",
       "      <td>RICHMOND</td>\n",
       "      <td>8235000.0</td>\n",
       "      <td>house</td>\n",
       "      <td>2011</td>\n",
       "      <td>2</td>\n",
       "      <td>1</td>\n",
       "      <td>...</td>\n",
       "      <td>SC_038</td>\n",
       "      <td>1778.524360</td>\n",
       "      <td>19906</td>\n",
       "      <td>648.837543</td>\n",
       "      <td>12.750000</td>\n",
       "      <td>0</td>\n",
       "      <td>hospital_122</td>\n",
       "      <td>737.696866</td>\n",
       "      <td>S_102</td>\n",
       "      <td>1758.413833</td>\n",
       "    </tr>\n",
       "    <tr>\n",
       "      <th>1</th>\n",
       "      <td>90301</td>\n",
       "      <td>-37.973940</td>\n",
       "      <td>145.067606</td>\n",
       "      <td>21 Oak Avenue</td>\n",
       "      <td>CHELTENHAM</td>\n",
       "      <td>14110000.0</td>\n",
       "      <td>house</td>\n",
       "      <td>2016</td>\n",
       "      <td>4</td>\n",
       "      <td>2</td>\n",
       "      <td>...</td>\n",
       "      <td>SC_003</td>\n",
       "      <td>2402.521361</td>\n",
       "      <td>19865</td>\n",
       "      <td>772.591481</td>\n",
       "      <td>39.352941</td>\n",
       "      <td>0</td>\n",
       "      <td>hospital_133</td>\n",
       "      <td>683.341843</td>\n",
       "      <td>S_011</td>\n",
       "      <td>903.213577</td>\n",
       "    </tr>\n",
       "    <tr>\n",
       "      <th>2</th>\n",
       "      <td>79419</td>\n",
       "      <td>-37.958385</td>\n",
       "      <td>145.158829</td>\n",
       "      <td>9 Burrapike Avenue</td>\n",
       "      <td>SPRINGVALE</td>\n",
       "      <td>2300000.0</td>\n",
       "      <td>house</td>\n",
       "      <td>2006</td>\n",
       "      <td>2</td>\n",
       "      <td>1</td>\n",
       "      <td>...</td>\n",
       "      <td>SC_057</td>\n",
       "      <td>3528.663065</td>\n",
       "      <td>19891</td>\n",
       "      <td>476.987507</td>\n",
       "      <td>46.277778</td>\n",
       "      <td>0</td>\n",
       "      <td>hospital_124</td>\n",
       "      <td>2432.250134</td>\n",
       "      <td>S_075</td>\n",
       "      <td>920.139367</td>\n",
       "    </tr>\n",
       "    <tr>\n",
       "      <th>3</th>\n",
       "      <td>48908</td>\n",
       "      <td>-37.804019</td>\n",
       "      <td>145.081638</td>\n",
       "      <td>10 Kaleno View</td>\n",
       "      <td>BALWYN</td>\n",
       "      <td>12600000.0</td>\n",
       "      <td>house</td>\n",
       "      <td>2012</td>\n",
       "      <td>4</td>\n",
       "      <td>2</td>\n",
       "      <td>...</td>\n",
       "      <td>SC_099</td>\n",
       "      <td>3216.002466</td>\n",
       "      <td>19893</td>\n",
       "      <td>1868.644428</td>\n",
       "      <td>28.777778</td>\n",
       "      <td>0</td>\n",
       "      <td>hospital_064</td>\n",
       "      <td>3734.979023</td>\n",
       "      <td>S_137</td>\n",
       "      <td>2131.660200</td>\n",
       "    </tr>\n",
       "    <tr>\n",
       "      <th>4</th>\n",
       "      <td>54190</td>\n",
       "      <td>-37.814052</td>\n",
       "      <td>145.025361</td>\n",
       "      <td>19 Edgerton Street</td>\n",
       "      <td>HAWTHORN</td>\n",
       "      <td>8050000.0</td>\n",
       "      <td>house</td>\n",
       "      <td>2013</td>\n",
       "      <td>3</td>\n",
       "      <td>2</td>\n",
       "      <td>...</td>\n",
       "      <td>SC_083</td>\n",
       "      <td>1280.205982</td>\n",
       "      <td>19905</td>\n",
       "      <td>760.220620</td>\n",
       "      <td>18.933333</td>\n",
       "      <td>0</td>\n",
       "      <td>hospital_086</td>\n",
       "      <td>784.440152</td>\n",
       "      <td>S_039</td>\n",
       "      <td>976.760380</td>\n",
       "    </tr>\n",
       "  </tbody>\n",
       "</table>\n",
       "<p>5 rows × 21 columns</p>\n",
       "</div>"
      ],
      "text/plain": [
       "  Property_id        lat         lng         addr_street      suburb  \\\n",
       "0       52733 -37.821212  145.010187   22 Stawell Street    RICHMOND   \n",
       "1       90301 -37.973940  145.067606       21 Oak Avenue  CHELTENHAM   \n",
       "2       79419 -37.958385  145.158829  9 Burrapike Avenue  SPRINGVALE   \n",
       "3       48908 -37.804019  145.081638      10 Kaleno View      BALWYN   \n",
       "4       54190 -37.814052  145.025361  19 Edgerton Street    HAWTHORN   \n",
       "\n",
       "        price property_type  year  bedrooms  bathrooms          ...            \\\n",
       "0   8235000.0         house  2011         2          1          ...             \n",
       "1  14110000.0         house  2016         4          2          ...             \n",
       "2   2300000.0         house  2006         2          1          ...             \n",
       "3  12600000.0         house  2012         4          2          ...             \n",
       "4   8050000.0         house  2013         3          2          ...             \n",
       "\n",
       "   Shopping_center_id Distance_to_sc  Train_station_id  \\\n",
       "0              SC_038    1778.524360             19906   \n",
       "1              SC_003    2402.521361             19865   \n",
       "2              SC_057    3528.663065             19891   \n",
       "3              SC_099    3216.002466             19893   \n",
       "4              SC_083    1280.205982             19905   \n",
       "\n",
       "   Distance_to_train_station  travel_min_to_CBD  Transfer_flag   Hospital_id  \\\n",
       "0                 648.837543          12.750000              0  hospital_122   \n",
       "1                 772.591481          39.352941              0  hospital_133   \n",
       "2                 476.987507          46.277778              0  hospital_124   \n",
       "3                1868.644428          28.777778              0  hospital_064   \n",
       "4                 760.220620          18.933333              0  hospital_086   \n",
       "\n",
       "  Distance_to_hospital  Supermarket_id Distance_to_supermaket  \n",
       "0           737.696866           S_102            1758.413833  \n",
       "1           683.341843           S_011             903.213577  \n",
       "2          2432.250134           S_075             920.139367  \n",
       "3          3734.979023           S_137            2131.660200  \n",
       "4           784.440152           S_039             976.760380  \n",
       "\n",
       "[5 rows x 21 columns]"
      ]
     },
     "execution_count": 35,
     "metadata": {},
     "output_type": "execute_result"
    }
   ],
   "source": [
    "realstate.head()"
   ]
  },
  {
   "cell_type": "code",
   "execution_count": 36,
   "metadata": {},
   "outputs": [],
   "source": [
    "realstate = realstate[['Property_id','lat','lng','addr_street','suburb','price','property_type'\n",
    "           ,'year','bedrooms','bathrooms','parking_space','Shopping_center_id','Distance_to_sc'\n",
    "          ,'Train_station_id','Distance_to_train_station','travel_min_to_CBD','Transfer_flag'\n",
    "        ,'Hospital_id','Distance_to_hospital','Supermarket_id'\n",
    "          ,'Distance_to_supermaket']]\n",
    "# Import Data to csv\n",
    "realstate.to_csv('29421934_solution.csv', index=False)"
   ]
  },
  {
   "cell_type": "markdown",
   "metadata": {},
   "source": [
    "## Task 2: Data Reshaping"
   ]
  },
  {
   "cell_type": "markdown",
   "metadata": {},
   "source": [
    "Realstate dataset contain features highly varying in magnitudes and range.  \n",
    "<b>Bedrooms</b> are in range 1-5  \n",
    "<b>Bathrooms</b> are in range 1-3  \n",
    "<b>Parking space</b> is in range 0-3  \n",
    "Whereas, <b>Price</b> is a continous variable ranging from 1125000 - 45220000.\n"
   ]
  },
  {
   "cell_type": "markdown",
   "metadata": {},
   "source": [
    "#### Looking at spread of price."
   ]
  },
  {
   "cell_type": "code",
   "execution_count": 37,
   "metadata": {},
   "outputs": [
    {
     "data": {
      "text/plain": [
       "<matplotlib.axes._subplots.AxesSubplot at 0x1a1a54cbe0>"
      ]
     },
     "execution_count": 37,
     "metadata": {},
     "output_type": "execute_result"
    },
    {
     "data": {
      "image/png": "[encoded data removed]",
      "text/plain": [
       "<Figure size 864x576 with 1 Axes>"
      ]
     },
     "metadata": {},
     "output_type": "display_data"
    }
   ],
   "source": [
    "fig, ax = plt.subplots(figsize=(12,8)) \n",
    "sns.kdeplot(realstate[\"price\"], shade=True, legend = True)"
   ]
  },
  {
   "cell_type": "code",
   "execution_count": 38,
   "metadata": {},
   "outputs": [
    {
     "name": "stdout",
     "output_type": "stream",
     "text": [
      "Price variance: 33587674713361.086\n"
     ]
    }
   ],
   "source": [
    "# Check Variance of price\n",
    "print('Price variance:', realstate.price.var())"
   ]
  },
  {
   "cell_type": "markdown",
   "metadata": {},
   "source": [
    "<div class=\"alert alert-block alert-info\">\n",
    "Price distribution is right skwed and the variance is very high.\n",
    "</div>"
   ]
  },
  {
   "cell_type": "markdown",
   "metadata": {},
   "source": [
    "#### The main aim of data reshaping will be to transform price values to another form with better properties that is more suitable for liner relationship with bathrooms, bedrooms, parking space and property type."
   ]
  },
  {
   "cell_type": "markdown",
   "metadata": {},
   "source": [
    "## Task 2.1: Z-Score Standardization"
   ]
  },
  {
   "cell_type": "code",
   "execution_count": 39,
   "metadata": {
    "scrolled": false
   },
   "outputs": [
    {
     "name": "stdout",
     "output_type": "stream",
     "text": [
      "Variance after Z-Score Standardization: 1.000500751126691\n"
     ]
    },
    {
     "data": {
      "image/png": "[encoded data removed]",
      "text/plain": [
       "<Figure size 864x576 with 1 Axes>"
      ]
     },
     "metadata": {},
     "output_type": "display_data"
    }
   ],
   "source": [
    "from sklearn import preprocessing\n",
    "std_scale = preprocessing.StandardScaler().fit(realstate[['price']])\n",
    "df_std = std_scale.transform(realstate[['price']]) \n",
    "realstateZ = pd.DataFrame()\n",
    "realstateZ['price'] = df_std[:,0]\n",
    "fig, ax = plt.subplots(figsize=(12,8)) \n",
    "sns.kdeplot(realstateZ[\"price\"], shade=True, legend = True)\n",
    "print('Variance after Z-Score Standardization:', realstateZ.price.var())"
   ]
  },
  {
   "cell_type": "markdown",
   "metadata": {},
   "source": [
    "<div class=\"alert alert-block alert-info\">\n",
    "<b>Z-Score Standardization</b> rescales data to have a mean (μ) of 0 and standard deviation (σ) of 1 (unit variance).  The distribution is right skwed.\n",
    "</div>\n"
   ]
  },
  {
   "cell_type": "markdown",
   "metadata": {},
   "source": [
    "### Task 2.1:  MinMax Normalization"
   ]
  },
  {
   "cell_type": "code",
   "execution_count": 40,
   "metadata": {},
   "outputs": [
    {
     "name": "stdout",
     "output_type": "stream",
     "text": [
      "Variance after MinMax Normalization: 0.01727433130311315\n"
     ]
    },
    {
     "data": {
      "image/png": "[encoded data removed]",
      "text/plain": [
       "<Figure size 864x576 with 1 Axes>"
      ]
     },
     "metadata": {},
     "output_type": "display_data"
    }
   ],
   "source": [
    "minmax_scale = preprocessing.MinMaxScaler().fit(realstate[['price']])\n",
    "df_minmax = minmax_scale.transform(realstate[['price']])\n",
    "df_minmax[0:5]\n",
    "realstateMinMax = pd.DataFrame()\n",
    "realstateMinMax['price'] = df_minmax[:,0]\n",
    "fig, ax = plt.subplots(figsize=(12,8)) \n",
    "sns.kdeplot(realstateMinMax[\"price\"], shade=True, legend = True)\n",
    "print('Variance after MinMax Normalization:', realstateMinMax.price.var())"
   ]
  },
  {
   "cell_type": "markdown",
   "metadata": {},
   "source": [
    "<div class=\"alert alert-block alert-info\">\n",
    "<b>MinMax</b> Normalization rescales the values into a range of [0,1].  \n",
    "However, the outliers from the data set are lost. Again the distribution is right skwed.\n",
    "</div>"
   ]
  },
  {
   "cell_type": "markdown",
   "metadata": {},
   "source": [
    "### Task 2.3:  Log Normalization"
   ]
  },
  {
   "cell_type": "code",
   "execution_count": 41,
   "metadata": {},
   "outputs": [],
   "source": [
    "def log_transformation(x):\n",
    "    return math.log(x)"
   ]
  },
  {
   "cell_type": "code",
   "execution_count": 42,
   "metadata": {},
   "outputs": [
    {
     "name": "stdout",
     "output_type": "stream",
     "text": [
      "Variance after Log Normalization: 0.3084179770823131\n"
     ]
    },
    {
     "data": {
      "image/png": "[encoded data removed]",
      "text/plain": [
       "<Figure size 864x576 with 1 Axes>"
      ]
     },
     "metadata": {},
     "output_type": "display_data"
    }
   ],
   "source": [
    "realstateLog = pd.DataFrame()\n",
    "realstateLog['price'] = realstate['price'].apply(lambda x: log_transformation(x))\n",
    "fig, ax = plt.subplots(figsize=(12,8)) \n",
    "sns.kdeplot(realstateLog[\"price\"], shade=True, legend = True)\n",
    "print('Variance after Log Normalization:', realstateLog.price.var())"
   ]
  },
  {
   "cell_type": "markdown",
   "metadata": {},
   "source": [
    "<div class=\"alert alert-block alert-info\">\n",
    "Log Transformation has decreased the variability of data and conform the data more closely to the normal distribution.\n",
    "</div>"
   ]
  },
  {
   "cell_type": "markdown",
   "metadata": {},
   "source": [
    "### Task 2.4:  Power Transformation"
   ]
  },
  {
   "cell_type": "code",
   "execution_count": 43,
   "metadata": {},
   "outputs": [],
   "source": [
    "def power_transformation(x):\n",
    "    return math.pow(x,2)"
   ]
  },
  {
   "cell_type": "code",
   "execution_count": 44,
   "metadata": {},
   "outputs": [
    {
     "name": "stdout",
     "output_type": "stream",
     "text": [
      "Variance after Power Transformation: 3.2640496942305046e+28\n"
     ]
    },
    {
     "data": {
      "image/png": "[encoded data removed]",
      "text/plain": [
       "<Figure size 864x576 with 1 Axes>"
      ]
     },
     "metadata": {},
     "output_type": "display_data"
    }
   ],
   "source": [
    "realstatePower = pd.DataFrame()\n",
    "realstatePower['price'] = realstate['price'].apply(lambda x: power_transformation(x))\n",
    "fig, ax = plt.subplots(figsize=(12,8)) \n",
    "sns.kdeplot(realstatePower[\"price\"], shade=True, legend = True)\n",
    "print('Variance after Power Transformation:', realstatePower.price.var())"
   ]
  },
  {
   "cell_type": "markdown",
   "metadata": {},
   "source": [
    "<div class=\"alert alert-block alert-info\">\n",
    "The Spread of data is increase after power transformation and the data is highly right skwed.\n",
    "</div>"
   ]
  },
  {
   "cell_type": "markdown",
   "metadata": {},
   "source": [
    "### Task 2.5:  Squareroot Transformation"
   ]
  },
  {
   "cell_type": "code",
   "execution_count": 45,
   "metadata": {},
   "outputs": [],
   "source": [
    "def sqroot_transformation(x):\n",
    "    return math.sqrt(x)"
   ]
  },
  {
   "cell_type": "code",
   "execution_count": 46,
   "metadata": {},
   "outputs": [
    {
     "name": "stdout",
     "output_type": "stream",
     "text": [
      "Variance after Squareroot Transformation: 721806.9215341485\n"
     ]
    },
    {
     "data": {
      "image/png": "[encoded data removed]",
      "text/plain": [
       "<Figure size 432x288 with 1 Axes>"
      ]
     },
     "metadata": {},
     "output_type": "display_data"
    }
   ],
   "source": [
    "realstatesqRoot = pd.DataFrame()\n",
    "realstatesqRoot['price'] = realstate['price'].apply(lambda x: sqroot_transformation(x))\n",
    "sns.kdeplot(realstatesqRoot[\"price\"], shade=True, legend = True)\n",
    "print('Variance after Squareroot Transformation:', realstatesqRoot.price.var())"
   ]
  },
  {
   "cell_type": "markdown",
   "metadata": {},
   "source": [
    "<div class=\"alert alert-block alert-info\">\n",
    "After performing squareroot transformation variance is still high.\n",
    "</div>"
   ]
  },
  {
   "cell_type": "markdown",
   "metadata": {},
   "source": [
    "***\n",
    "We saw that price variable is highly skwed and has very high variancde which is justifiable because price is a physical data.  \n",
    "After performing various transformation and standardization on price variable we can conclude that <b>Log Transformation</b> on price will be ideal to if we have to build liner model on price using bedroom, bathroom, parking space and property type.  \n",
    "Log Transformation has reduced right skewness and distribution is normally distributed.  \n",
    "***"
   ]
  },
  {
   "cell_type": "markdown",
   "metadata": {},
   "source": [
    "## Linear Regression"
   ]
  },
  {
   "cell_type": "code",
   "execution_count": null,
   "metadata": {},
   "outputs": [],
   "source": []
  },
  {
   "cell_type": "code",
   "execution_count": 47,
   "metadata": {},
   "outputs": [
    {
     "name": "stdout",
     "output_type": "stream",
     "text": [
      "Delivery Fare predicted with  2.124553150402053 % accuracy\n"
     ]
    }
   ],
   "source": [
    "# Linear Regression with MinMax\n",
    "X = realstate[['bedrooms','bathrooms','parking_space']] \n",
    "\n",
    "# Select variable to predict\n",
    "y = realstateLog['price']\n",
    "\n",
    "# split dataframe into train and test data.\n",
    "X_train, X_test, y_train, y_test=train_test_split(X,y, test_size=0.3)\n",
    "\n",
    "# Instiantiate LinearRigression\n",
    "model = linear_model.LinearRegression()\n",
    "\n",
    "# Train model\n",
    "model.fit(X_train, y_train)\n",
    "\n",
    "# Predict Delivery Fare on Test Data\n",
    "y_predict = model.predict(X_test)\n",
    "\n",
    "\n",
    "# drone['predFare'] = model.predict(drone[['Drone Type', 'Post Type','Package Weight','Journey Distance']])\n",
    "\n",
    "# drone['Delivery Fare'] = np.where(drone['Delivery Fare'] != drone['predFare']\n",
    "#                                  ,drone['predFare']\n",
    "#                                  ,drone['Delivery Fare'])\n",
    "# drop predFare from dataframe\n",
    "# drone.drop('predFare', 1, inplace=True)\n",
    "\n",
    "print('Delivery Fare predicted with ',model.score(X_test,y_test)*100, '% accuracy')"
   ]
  },
  {
   "cell_type": "markdown",
   "metadata": {},
   "source": [
    "Here we have attempted to predict price with bedrooms, bathrooms and parking_space.  \n",
    "We are predicting continous variable from categorical variables"
   ]
  },
  {
   "cell_type": "code",
   "execution_count": null,
   "metadata": {},
   "outputs": [],
   "source": []
  }
 ],
 "metadata": {
  "kernelspec": {
   "display_name": "Python 3",
   "language": "python",
   "name": "python3"
  },
  "language_info": {
   "codemirror_mode": {
    "name": "ipython",
    "version": 3
   },
   "file_extension": ".py",
   "mimetype": "text/x-python",
   "name": "python",
   "nbconvert_exporter": "python",
   "pygments_lexer": "ipython3",
   "version": "3.6.4"
  }
 },
 "nbformat": 4,
 "nbformat_minor": 2
}
